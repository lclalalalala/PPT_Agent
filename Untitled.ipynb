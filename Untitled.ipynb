{
 "cells": [
  {
   "cell_type": "code",
   "execution_count": 1,
   "id": "052901ae-a18b-419c-89f0-051144346f5b",
   "metadata": {},
   "outputs": [],
   "source": [
    "from src.agents import *"
   ]
  },
  {
   "cell_type": "code",
   "execution_count": 2,
   "id": "e8c36115-35f0-4845-9401-91d2a07f9bbc",
   "metadata": {},
   "outputs": [],
   "source": [
    "# user = autogen.ConversableAgent(name=\"user\",llm_config=False)"
   ]
  },
  {
   "cell_type": "code",
   "execution_count": 3,
   "id": "509cc4e7-74a7-4dae-abf3-c514f2bd4534",
   "metadata": {},
   "outputs": [
    {
     "name": "stdout",
     "output_type": "stream",
     "text": [
      "\u001b[33muser\u001b[0m (to Presentation outline designer):\n",
      "\n",
      "我需要写一个关于LLM Agent的PPT，用途是为了引起老板的兴趣，进而加大对这个方向的投入。\n",
      "因此:\n",
      "    - 这个 ppt 要以展现 LLM Agent 的应用案例为主\n",
      "    - 形式和内容类似于广告，主要以引起听众的兴趣为主\n",
      "    - 尽量避免谈论过多技术细节\n",
      "    - 目前有三个比较好的应用案例：\n",
      "        1. LLM Agent 进行旅行规划：LLM Agent 可以完成3~5 天内的旅行规划，包括住宿、交通、游玩路线、景点选择等。\n",
      "            通过这个例子可以看出 LLM 在业务流程中有着很强的应用潜力，可以帮助进行招聘计划、 财务流程、市场流程等的计划\n",
      "        2. LLM Agents 控制太空飞船进行自主星空探索。这个例子可以表现出 LLM 可以综合判断各种传感器信号，给出操作指令，保持飞船平稳运行。\n",
      "            通过这个例子可以看到 LLM Agent 在工厂等多传感器的智能环境下可以做出分析和判断。\n",
      "        3. LLM Agents 组成智能体集合，实现比单个 LLM 更优的结果。这个例子可以看出我们可以应用 LLM 的集合效应，实现虚拟讨论，对一个问题进行多方面的考察。\n",
      "\n",
      "\n",
      "--------------------------------------------------------------------------------\n",
      "\u001b[33mPresentation outline designer\u001b[0m (to user):\n",
      "\n",
      "### 幻灯片1: 封面\n",
      "- 标题：探索未来 - LLM Agent的无限可能\n",
      "- 副标题：引领智能时代的创新力量\n",
      "- 图片/背景：未来科技感的图案或图片\n",
      "- 公司/组织名称\n",
      "\n",
      "---\n",
      "\n",
      "### 幻灯片2: 简介\n",
      "- 标题：什么是LLM Agent？\n",
      "- 内容：\n",
      "  - LLM Agent是一种先进的人工智能代理，能够执行复杂的任务和决策。\n",
      "  - 它通过学习和适应来优化业务流程和提高效率。\n",
      "- 图片/图标：智能机器人或AI图标\n",
      "\n",
      "---\n",
      "\n",
      "### 幻灯片3: 应用案例概览\n",
      "- 标题：LLM Agent的应用案例\n",
      "- 内容：\n",
      "  - 旅行规划：个性化的旅行体验\n",
      "  - 太空探索：自主控制的太空飞船\n",
      "  - 智能体集合：多角度的虚拟讨论\n",
      "- 图片/图标：每个案例的代表性图像\n",
      "\n",
      "---\n",
      "\n",
      "### 幻灯片4: 旅行规划 - 个性化体验\n",
      "- 标题：LLM Agent的旅行规划\n",
      "- 内容：\n",
      "  - 3~5天的个性化旅行计划\n",
      "  - 包括住宿、交通、游玩路线和景点选择\n",
      "- 图片/背景：旅行相关的图片，如地图、酒店、交通工具等\n",
      "- 强调点：个性化、效率、用户满意度\n",
      "\n",
      "---\n",
      "\n",
      "### 幻灯片5: 太空探索 - 自主控制\n",
      "- 标题：LLM Agent的太空探索\n",
      "- 内容：\n",
      "  - 综合判断传感器信号\n",
      "  - 给出操作指令，保持飞船平稳运行\n",
      "- 图片/背景：太空飞船、星空、传感器等元素\n",
      "- 强调点：自主性、稳定性、创新性\n",
      "\n",
      "---\n",
      "\n",
      "### 幻灯片6: 智能体集合 - 多角度分析\n",
      "- 标题：LLM Agents的智能体集合\n",
      "- 内容：\n",
      "  - 集合效应，实现更优结果\n",
      "  - 虚拟讨论，多角度考察问题\n",
      "- 图片/背景：多个智能体的集合图或网络连接图\n",
      "- 强调点：协作、全面性、创新解决方案\n",
      "\n",
      "---\n",
      "\n",
      "### 幻灯片7: 业务流程优化\n",
      "- 标题：LLM Agent在业务流程中的应用\n",
      "- 内容：\n",
      "  - 招聘计划、财务流程、市场流程等\n",
      "  - 提高效率，降低成本，增强竞争力\n",
      "- 图片/图标：流程图、齿轮、图表等\n",
      "- 强调点：流程优化、成本效益、市场竞争力\n",
      "\n",
      "---\n",
      "\n",
      "### 幻灯片8: 智能环境分析\n",
      "- 标题：LLM Agent在多传感器智能环境中的应用\n",
      "- 内容：\n",
      "  - 工厂、监控系统等多传感器环境\n",
      "  - 实时分析和判断，提高生产效率和安全性\n",
      "- 图片/背景：工厂、传感器、监控屏幕等\n",
      "- 强调点：实时性、安全性、生产效率\n",
      "\n",
      "---\n",
      "\n",
      "### 幻灯片9: 投资未来\n",
      "- 标题：投资LLM Agent，投资未来\n",
      "- 内容：\n",
      "  - 展示LLM Agent的潜力和市场前景\n",
      "  - 强调投资的重要性和回报\n",
      "- 图片/图标：增长曲线、投资图标、未来城市等\n",
      "- 强调点：市场潜力、投资回报、未来趋势\n",
      "\n",
      "---\n",
      "\n",
      "### 幻灯片10: 结语\n",
      "- 标题：携手共创智能未来\n",
      "- 内容：\n",
      "  - 邀请老板和团队共同探索LLM Agent的无限可能\n",
      "  - 强调合作的重要性和对未来的承诺\n",
      "- 图片/背景：握手、团队合作、未来科技等\n",
      "- 联系方式：提供联系信息，方便进一步沟通\n",
      "\n",
      "---\n",
      "\n",
      "### 幻灯片11: 致谢\n",
      "- 标题：感谢您的关注\n",
      "- 内容：简短的感谢语，表达对听众时间的尊重和感激\n",
      "- 图片/图标：感谢的图标或图案\n",
      "\n",
      "---\n",
      "\n",
      "请根据这个框架制作PPT，并根据需要添加适当的动画和过渡效果以增强演示的吸引力。\n",
      "\n",
      "--------------------------------------------------------------------------------\n"
     ]
    },
    {
     "name": "stdin",
     "output_type": "stream",
     "text": [
      "Provide feedback to Presentation outline designer. Press enter to skip and use auto-reply, or type 'exit' to end the conversation:  exit\n"
     ]
    },
    {
     "data": {
      "text/plain": [
       "ChatResult(chat_id=None, chat_history=[{'content': '我需要写一个关于LLM Agent的PPT，用途是为了引起老板的兴趣，进而加大对这个方向的投入。\\n因此:\\n    - 这个 ppt 要以展现 LLM Agent 的应用案例为主\\n    - 形式和内容类似于广告，主要以引起听众的兴趣为主\\n    - 尽量避免谈论过多技术细节\\n    - 目前有三个比较好的应用案例：\\n        1. LLM Agent 进行旅行规划：LLM Agent 可以完成3~5 天内的旅行规划，包括住宿、交通、游玩路线、景点选择等。\\n            通过这个例子可以看出 LLM 在业务流程中有着很强的应用潜力，可以帮助进行招聘计划、 财务流程、市场流程等的计划\\n        2. LLM Agents 控制太空飞船进行自主星空探索。这个例子可以表现出 LLM 可以综合判断各种传感器信号，给出操作指令，保持飞船平稳运行。\\n            通过这个例子可以看到 LLM Agent 在工厂等多传感器的智能环境下可以做出分析和判断。\\n        3. LLM Agents 组成智能体集合，实现比单个 LLM 更优的结果。这个例子可以看出我们可以应用 LLM 的集合效应，实现虚拟讨论，对一个问题进行多方面的考察。\\n', 'role': 'assistant'}, {'content': '### 幻灯片1: 封面\\n- 标题：探索未来 - LLM Agent的无限可能\\n- 副标题：引领智能时代的创新力量\\n- 图片/背景：未来科技感的图案或图片\\n- 公司/组织名称\\n\\n---\\n\\n### 幻灯片2: 简介\\n- 标题：什么是LLM Agent？\\n- 内容：\\n  - LLM Agent是一种先进的人工智能代理，能够执行复杂的任务和决策。\\n  - 它通过学习和适应来优化业务流程和提高效率。\\n- 图片/图标：智能机器人或AI图标\\n\\n---\\n\\n### 幻灯片3: 应用案例概览\\n- 标题：LLM Agent的应用案例\\n- 内容：\\n  - 旅行规划：个性化的旅行体验\\n  - 太空探索：自主控制的太空飞船\\n  - 智能体集合：多角度的虚拟讨论\\n- 图片/图标：每个案例的代表性图像\\n\\n---\\n\\n### 幻灯片4: 旅行规划 - 个性化体验\\n- 标题：LLM Agent的旅行规划\\n- 内容：\\n  - 3~5天的个性化旅行计划\\n  - 包括住宿、交通、游玩路线和景点选择\\n- 图片/背景：旅行相关的图片，如地图、酒店、交通工具等\\n- 强调点：个性化、效率、用户满意度\\n\\n---\\n\\n### 幻灯片5: 太空探索 - 自主控制\\n- 标题：LLM Agent的太空探索\\n- 内容：\\n  - 综合判断传感器信号\\n  - 给出操作指令，保持飞船平稳运行\\n- 图片/背景：太空飞船、星空、传感器等元素\\n- 强调点：自主性、稳定性、创新性\\n\\n---\\n\\n### 幻灯片6: 智能体集合 - 多角度分析\\n- 标题：LLM Agents的智能体集合\\n- 内容：\\n  - 集合效应，实现更优结果\\n  - 虚拟讨论，多角度考察问题\\n- 图片/背景：多个智能体的集合图或网络连接图\\n- 强调点：协作、全面性、创新解决方案\\n\\n---\\n\\n### 幻灯片7: 业务流程优化\\n- 标题：LLM Agent在业务流程中的应用\\n- 内容：\\n  - 招聘计划、财务流程、市场流程等\\n  - 提高效率，降低成本，增强竞争力\\n- 图片/图标：流程图、齿轮、图表等\\n- 强调点：流程优化、成本效益、市场竞争力\\n\\n---\\n\\n### 幻灯片8: 智能环境分析\\n- 标题：LLM Agent在多传感器智能环境中的应用\\n- 内容：\\n  - 工厂、监控系统等多传感器环境\\n  - 实时分析和判断，提高生产效率和安全性\\n- 图片/背景：工厂、传感器、监控屏幕等\\n- 强调点：实时性、安全性、生产效率\\n\\n---\\n\\n### 幻灯片9: 投资未来\\n- 标题：投资LLM Agent，投资未来\\n- 内容：\\n  - 展示LLM Agent的潜力和市场前景\\n  - 强调投资的重要性和回报\\n- 图片/图标：增长曲线、投资图标、未来城市等\\n- 强调点：市场潜力、投资回报、未来趋势\\n\\n---\\n\\n### 幻灯片10: 结语\\n- 标题：携手共创智能未来\\n- 内容：\\n  - 邀请老板和团队共同探索LLM Agent的无限可能\\n  - 强调合作的重要性和对未来的承诺\\n- 图片/背景：握手、团队合作、未来科技等\\n- 联系方式：提供联系信息，方便进一步沟通\\n\\n---\\n\\n### 幻灯片11: 致谢\\n- 标题：感谢您的关注\\n- 内容：简短的感谢语，表达对听众时间的尊重和感激\\n- 图片/图标：感谢的图标或图案\\n\\n---\\n\\n请根据这个框架制作PPT，并根据需要添加适当的动画和过渡效果以增强演示的吸引力。', 'role': 'user'}], summary='The user requested a PowerPoint presentation about LLM Agents to pique the interest of their boss and encourage further investment in this area. The presentation should focus on showcasing LLM Agent application cases, resemble an advertisement to spark interest, avoid technical details, and include three specific examples: travel planning, autonomous space exploration, and intelligent agent collaboration. The presentation should have a cover slide, introduction, case overview, detailed case descriptions, business process optimization, intelligent environment analysis, investment appeal, conclusion, and acknowledgment slides.', cost={'usage_including_cached_inference': {'total_cost': 28680, 'moonshot-v1-8k': {'cost': 28680, 'prompt_tokens': 1415, 'completion_tokens': 975, 'total_tokens': 2390}}, 'usage_excluding_cached_inference': {'total_cost': 15012, 'moonshot-v1-8k': {'cost': 15012, 'prompt_tokens': 1149, 'completion_tokens': 102, 'total_tokens': 1251}}}, human_input=['exit'])"
      ]
     },
     "execution_count": 3,
     "metadata": {},
     "output_type": "execute_result"
    }
   ],
   "source": [
    "human.initiate_chat(outline_design,message=\"\"\"我需要写一个关于LLM Agent的PPT，用途是为了引起老板的兴趣，进而加大对这个方向的投入。\n",
    "因此:\n",
    "    - 这个 ppt 要以展现 LLM Agent 的应用案例为主\n",
    "    - 形式和内容类似于广告，主要以引起听众的兴趣为主\n",
    "    - 尽量避免谈论过多技术细节\n",
    "    - 目前有三个比较好的应用案例：\n",
    "        1. LLM Agent 进行旅行规划：LLM Agent 可以完成3~5 天内的旅行规划，包括住宿、交通、游玩路线、景点选择等。\n",
    "            通过这个例子可以看出 LLM 在业务流程中有着很强的应用潜力，可以帮助进行招聘计划、 财务流程、市场流程等的计划\n",
    "        2. LLM Agents 控制太空飞船进行自主星空探索。这个例子可以表现出 LLM 可以综合判断各种传感器信号，给出操作指令，保持飞船平稳运行。\n",
    "            通过这个例子可以看到 LLM Agent 在工厂等多传感器的智能环境下可以做出分析和判断。\n",
    "        3. LLM Agents 组成智能体集合，实现比单个 LLM 更优的结果。这个例子可以看出我们可以应用 LLM 的集合效应，实现虚拟讨论，对一个问题进行多方面的考察。\n",
    "\"\"\",summary_method=\"reflection_with_llm\")"
   ]
  },
  {
   "cell_type": "code",
   "execution_count": 6,
   "id": "47f1b771-36b9-4b9c-9d61-9352ecf9d072",
   "metadata": {},
   "outputs": [
    {
     "name": "stdout",
     "output_type": "stream",
     "text": [
      "\u001b[33muser\u001b[0m (to Presentation outline critic):\n",
      "\n",
      "综合 human 的需求，对 outline 提出一些修改意见。如果认为已经符合要求，回复:'TERMINATE'\n",
      "\n",
      "--------------------------------------------------------------------------------\n",
      "\u001b[33mPresentation outline critic\u001b[0m (to user):\n",
      "\n",
      "当然，我会根据您提供的大纲进行评估，并提出修改意见。请提供您希望我评估的大纲内容。\n",
      "\n",
      "--------------------------------------------------------------------------------\n"
     ]
    },
    {
     "name": "stdin",
     "output_type": "stream",
     "text": [
      "Provide feedback to Presentation outline critic. Press enter to skip and use auto-reply, or type 'exit' to end the conversation:  exit\n"
     ]
    },
    {
     "data": {
      "text/plain": [
       "ChatResult(chat_id=None, chat_history=[{'content': \"综合 human 的需求，对 outline 提出一些修改意见。如果认为已经符合要求，回复:'TERMINATE'\", 'role': 'assistant'}, {'content': '当然，我会根据您提供的大纲进行评估，并提出修改意见。请提供您希望我评估的大纲内容。', 'role': 'user'}], summary='当然，我会根据您提供的大纲进行评估，并提出修改意见。请提供您希望我评估的大纲内容。', cost={'usage_including_cached_inference': {'total_cost': 3216, 'moonshot-v1-8k': {'cost': 3216, 'prompt_tokens': 174, 'completion_tokens': 94, 'total_tokens': 268}}, 'usage_excluding_cached_inference': {'total_cost': 2208, 'moonshot-v1-8k': {'cost': 2208, 'prompt_tokens': 115, 'completion_tokens': 69, 'total_tokens': 184}}}, human_input=['exit'])"
      ]
     },
     "execution_count": 6,
     "metadata": {},
     "output_type": "execute_result"
    }
   ],
   "source": [
    "human.initiate_chat(outline_design_critic,message=\"综合 human 的需求，对 outline 提出一些修改意见。如果认为已经符合要求，回复:'TERMINATE'\")"
   ]
  },
  {
   "cell_type": "code",
   "execution_count": null,
   "id": "d67bbc16-4e07-47ef-8e22-9046e0ddbd6c",
   "metadata": {},
   "outputs": [
    {
     "name": "stdout",
     "output_type": "stream",
     "text": [
      "\u001b[34m\n",
      "********************************************************************************\u001b[0m\n",
      "\u001b[34mStarting a new chat....\u001b[0m\n",
      "\u001b[34m\n",
      "********************************************************************************\u001b[0m\n",
      "\u001b[33muser\u001b[0m (to Presentation outline designer):\n",
      "\n",
      "hi\n",
      "\n",
      "--------------------------------------------------------------------------------\n",
      "\u001b[33mPresentation outline designer\u001b[0m (to user):\n",
      "\n",
      "Hello! How can I assist you with your presentation needs today? If you have any specific topics, themes, or requirements, feel free to share them, and I'll be happy to help you create an engaging and effective presentation.\n",
      "\n",
      "--------------------------------------------------------------------------------\n"
     ]
    },
    {
     "name": "stderr",
     "output_type": "stream",
     "text": [
      "/Users/liucheng/miniconda3/envs/py311/lib/python3.10/site-packages/autogen/agentchat/chat.py:47: UserWarning: Repetitive recipients detected: The chat history will be cleared by default if a recipient appears more than once. To retain the chat history, please set 'clear_history=False' in the configuration of the repeating agent.\n",
      "  warnings.warn(\n"
     ]
    },
    {
     "name": "stdin",
     "output_type": "stream",
     "text": [
      "Provide feedback to Presentation outline designer. Press enter to skip and use auto-reply, or type 'exit' to end the conversation:  hi\n"
     ]
    },
    {
     "name": "stdout",
     "output_type": "stream",
     "text": [
      "\u001b[33muser\u001b[0m (to Presentation outline designer):\n",
      "\n",
      "hi\n",
      "\n",
      "--------------------------------------------------------------------------------\n",
      "\u001b[33mPresentation outline designer\u001b[0m (to user):\n",
      "\n",
      "Hello again! If you're ready to discuss your presentation needs or have any questions, I'm here to help. Just let me know how I can assist you!\n",
      "\n",
      "--------------------------------------------------------------------------------\n",
      "\u001b[34m\n",
      "********************************************************************************\u001b[0m\n",
      "\u001b[34mStarting a new chat....\u001b[0m\n",
      "\u001b[34m\n",
      "********************************************************************************\u001b[0m\n",
      "\u001b[33muser\u001b[0m (to Presentation outline critic):\n",
      "\n",
      "hi\n",
      "Context: \n",
      "The user greeted the assistant twice, but did not provide any specific information or questions about their presentation needs. The assistant offered help and asked for more details to assist effectively.\n",
      "\n",
      "--------------------------------------------------------------------------------\n",
      "\u001b[33mPresentation outline critic\u001b[0m (to user):\n",
      "\n",
      "Hello! I'm here to help you with your presentation. If you could provide me with more details about the topic, purpose, or any specific points you'd like to cover, I'd be happy to assist you in creating an effective outline.\n",
      "\n",
      "--------------------------------------------------------------------------------\n"
     ]
    },
    {
     "name": "stdin",
     "output_type": "stream",
     "text": [
      "Provide feedback to Presentation outline critic. Press enter to skip and use auto-reply, or type 'exit' to end the conversation:  hi\n"
     ]
    },
    {
     "name": "stdout",
     "output_type": "stream",
     "text": [
      "\u001b[33muser\u001b[0m (to Presentation outline critic):\n",
      "\n",
      "hi\n",
      "\n",
      "--------------------------------------------------------------------------------\n",
      "\u001b[33mPresentation outline critic\u001b[0m (to user):\n",
      "\n",
      "Hello again! I'm ready to assist you with your presentation. If you have any materials, topics, or questions you'd like to discuss, please feel free to share them, and I'll do my best to help you create a compelling outline.\n",
      "\n",
      "--------------------------------------------------------------------------------\n",
      "\u001b[34m\n",
      "********************************************************************************\u001b[0m\n",
      "\u001b[34mStarting a new chat....\u001b[0m\n",
      "\u001b[34m\n",
      "********************************************************************************\u001b[0m\n",
      "\u001b[33muser\u001b[0m (to Presentation outline designer):\n",
      "\n",
      "hi\n",
      "Context: \n",
      "The user greeted the assistant twice, but did not provide any specific information or questions about their presentation needs. The assistant offered help and asked for more details to assist effectively.\n",
      "The user greeted the assistant twice without providing any specific information or questions about their presentation needs. The assistant offered help and asked for more details to assist effectively, but the user did not provide any further information.\n",
      "\n",
      "--------------------------------------------------------------------------------\n"
     ]
    }
   ],
   "source": [
    "human.initiate_chats(\n",
    "        [{\n",
    "            \"recipient\": outline_design,\n",
    "            \"message\": \"hi\",\n",
    "            \"max_turns\": 2,\n",
    "            \"summary_method\": \"reflection_with_llm\",\n",
    "        },\n",
    "        {\n",
    "            \"recipient\": outline_design_critic,\n",
    "            \"message\": \"hi\",\n",
    "            \"max_turns\": 2,\n",
    "            \"summary_method\": \"reflection_with_llm\",\n",
    "        },\n",
    "        {\n",
    "            \"recipient\": outline_design,\n",
    "            \"message\": \"hi\",\n",
    "            \"max_turns\": 2,\n",
    "            \"summary_method\": \"reflection_with_llm\",\n",
    "        },\n",
    "        {\n",
    "            \"recipient\": outline_design_critic,\n",
    "            \"message\": \"hi\",\n",
    "            \"max_turns\": 2,\n",
    "            \"summary_method\": \"reflection_with_llm\",\n",
    "        },\n",
    "        {\n",
    "            \"recipient\": outline_design_critic,\n",
    "            \"message\": \"hi\",\n",
    "            \"max_turns\": 2,\n",
    "            \"summary_method\": \"reflection_with_llm\",\n",
    "        },]\n",
    "        \n",
    ")"
   ]
  }
 ],
 "metadata": {
  "kernelspec": {
   "display_name": "Python 3 (ipykernel)",
   "language": "python",
   "name": "python3"
  },
  "language_info": {
   "codemirror_mode": {
    "name": "ipython",
    "version": 3
   },
   "file_extension": ".py",
   "mimetype": "text/x-python",
   "name": "python",
   "nbconvert_exporter": "python",
   "pygments_lexer": "ipython3",
   "version": "3.10.13"
  }
 },
 "nbformat": 4,
 "nbformat_minor": 5
}
